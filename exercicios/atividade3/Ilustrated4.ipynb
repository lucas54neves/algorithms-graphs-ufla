{
 "cells": [
  {
   "cell_type": "markdown",
   "metadata": {},
   "source": [
    "Importando as bibliotecas"
   ]
  },
  {
   "cell_type": "code",
   "execution_count": 47,
   "metadata": {},
   "outputs": [],
   "source": [
    "import re\n",
    "import networkx as nx\n",
    "import math"
   ]
  },
  {
   "cell_type": "markdown",
   "metadata": {},
   "source": [
    "Teste de leitura"
   ]
  },
  {
   "cell_type": "code",
   "execution_count": null,
   "metadata": {},
   "outputs": [],
   "source": [
    "arquivo = open('Ex3.txt', 'r')\n",
    "\n",
    "linha = arquivo.readline()\n",
    "\n",
    "valores = linha.split(' ')\n",
    "valores = re.findall([0-9], valores)\n",
    "\n",
    "print(valores)"
   ]
  },
  {
   "cell_type": "markdown",
   "metadata": {},
   "source": [
    "Criação do vértice"
   ]
  },
  {
   "cell_type": "code",
   "execution_count": 48,
   "metadata": {},
   "outputs": [],
   "source": [
    "class Vertice:\n",
    "    def __init__(self, x, y):\n",
    "        self.x = x\n",
    "        self.y = y\n",
    "        self.tempo = float(\"inf\")\n",
    "        self.pai = None\n",
    "        self.arestas = []\n",
    "\n",
    "    def relax(self, aresta):\n",
    "        self.tempo = aresta[0][0].tempo + aresta[1]\n",
    "        self.pai = aresta[0]\n",
    "\n",
    "    def adicionar_aresta(self, destino, peso):\n",
    "        self.arestas.append([destino, peso])\n",
    "\n",
    "\n",
    "\n"
   ]
  },
  {
   "cell_type": "markdown",
   "metadata": {},
   "source": [
    "Criação do grafo"
   ]
  },
  {
   "cell_type": "code",
   "execution_count": 49,
   "metadata": {},
   "outputs": [],
   "source": [
    "class Grafo:\n",
    "    def __init__(self, nome_arquivo):\n",
    "        arquivo = open(nome_arquivo, 'r')\n",
    "        self.vertices = []\n",
    "\n",
    "        linha = arquivo.readline()\n",
    "        valores = linha.split()\n",
    "\n",
    "        self.vertices.append([Vertice(int(valores[0]), int(valores[1])), 0])\n",
    "        self.vertices.append([Vertice(int(valores[2]), int(valores[3])), 0])\n",
    "\n",
    "        linha = arquivo.readline()\n",
    "\n",
    "        # Leitura das coordenadas das linhas de metro\n",
    "        i = 1\n",
    "        while linha:\n",
    "            valores = linha.split()\n",
    "\n",
    "            while valores:\n",
    "                coordenada_x = int(valores.pop(0))\n",
    "                coordenada_y = int(valores.pop(0))\n",
    "\n",
    "                if coordenada_x != -1 and coordenada_y != -1:\n",
    "                    self.vertices.append([Vertice(coordenada_x, coordenada_y), i])\n",
    "\n",
    "            i += 1\n",
    "            linha = arquivo.readline()\n",
    "\n",
    "        i = 0\n",
    "        for vertice1 in self.vertices:\n",
    "            j = 0\n",
    "            for vertice2 in self.vertices:\n",
    "                if vertice1[1] == 0:\n",
    "                    vertice1[0].adicionar_aresta(vertice2, self.calcular_tempo(vertice1[0], vertice2[0], 1.7))\n",
    "                elif vertice1[1] == vertice2[1]:\n",
    "                    vertice1[0].adicionar_aresta(vertice2, self.calcular_tempo(vertice1[0], vertice2[0], 3.1111111111))\n",
    "                else:\n",
    "                    vertice1[0].adicionar_aresta(vertice2, self.calcular_tempo(vertice1[0], vertice2[0], 1.7))\n",
    "                j += 1\n",
    "            i += 1\n",
    "\n",
    "    def calcular_distancias(self, vertice1, vertice2):\n",
    "        return math.sqrt(math.pow((vertice1.x - vertice2.x), 2) + math.pow((vertice1.y - vertice2.y), 2))\n",
    "\n",
    "    def calcular_tempo(self, vertice1, vertice2, velocidade):\n",
    "        return math.ceil((self.calcular_distancias(vertice1, vertice2) / velocidade) / 60)\n",
    "\n",
    "    def imprimir_resultado(self):\n",
    "        print(self.vertices[len(self.vertices) - 1][0].tempo)\n",
    "            \n",
    "    def bellman_ford(self):\n",
    "        self.inicializar_vertices()\n",
    "        \n",
    "        self.vertices[0][0].tempo = 0\n",
    "        \n",
    "        for vertice in self.vertices:\n",
    "            for aresta in vertice[0].arestas:\n",
    "                if vertice[0].tempo > aresta[0][0].tempo + aresta[1]:\n",
    "                    vertice[0].relax(aresta)\n",
    "\n",
    "    def inicializar_vertices(self):\n",
    "        for vertice in self.vertices:\n",
    "            vertice[0].tempo = float(\"inf\")\n",
    "            vertice[0].pai = None"
   ]
  },
  {
   "cell_type": "markdown",
   "metadata": {},
   "source": [
    "Função para plotar o grafo"
   ]
  },
  {
   "cell_type": "code",
   "execution_count": 76,
   "metadata": {},
   "outputs": [],
   "source": [
    "def plota(grafo):\n",
    "\n",
    "    G = nx.Graph()\n",
    "\n",
    "    i = 0\n",
    "\n",
    "    for vertice in grafo.vertices:\n",
    "        G.add_node(i, pos=(grafo.vertices[i][0].x, grafo.vertices[i][0].y))\n",
    "        i = i + 1\n",
    "\n",
    "    i = 0    \n",
    "\n",
    "    for vertice in grafo.vertices:\n",
    "        for aresta in grafo.vertices[i][0].arestas:\n",
    "            print (aresta[0])\n",
    "            #G.add_edge(i, aresta[0], weight=aresta[1])\n",
    "        i = i + 1\n",
    "\n",
    "    pos=nx.get_node_attributes(G,'pos')\n",
    "    nx.draw(G,pos, with_labels=True)  # positions for all nodes"
   ]
  },
  {
   "cell_type": "markdown",
   "metadata": {},
   "source": [
    "Função para execução do programa"
   ]
  },
  {
   "cell_type": "code",
   "execution_count": 77,
   "metadata": {},
   "outputs": [
    {
     "name": "stdout",
     "output_type": "stream",
     "text": [
      "60\n",
      "[<__main__.Vertice object at 0x7f3bf7bbc9d0>, 0]\n",
      "[<__main__.Vertice object at 0x7f3bf7bbc410>, 0]\n",
      "[<__main__.Vertice object at 0x7f3bf7bbc790>, 1]\n",
      "[<__main__.Vertice object at 0x7f3bf7bbce10>, 1]\n",
      "[<__main__.Vertice object at 0x7f3bf7bbc490>, 1]\n",
      "[<__main__.Vertice object at 0x7f3bf77f9c10>, 2]\n",
      "[<__main__.Vertice object at 0x7f3bf7bbc450>, 2]\n",
      "[<__main__.Vertice object at 0x7f3bf7de9610>, 2]\n",
      "[<__main__.Vertice object at 0x7f3bf7bbc9d0>, 0]\n",
      "[<__main__.Vertice object at 0x7f3bf7bbc410>, 0]\n",
      "[<__main__.Vertice object at 0x7f3bf7bbc790>, 1]\n",
      "[<__main__.Vertice object at 0x7f3bf7bbce10>, 1]\n",
      "[<__main__.Vertice object at 0x7f3bf7bbc490>, 1]\n",
      "[<__main__.Vertice object at 0x7f3bf77f9c10>, 2]\n",
      "[<__main__.Vertice object at 0x7f3bf7bbc450>, 2]\n",
      "[<__main__.Vertice object at 0x7f3bf7de9610>, 2]\n",
      "[<__main__.Vertice object at 0x7f3bf7bbc9d0>, 0]\n",
      "[<__main__.Vertice object at 0x7f3bf7bbc410>, 0]\n",
      "[<__main__.Vertice object at 0x7f3bf7bbc790>, 1]\n",
      "[<__main__.Vertice object at 0x7f3bf7bbce10>, 1]\n",
      "[<__main__.Vertice object at 0x7f3bf7bbc490>, 1]\n",
      "[<__main__.Vertice object at 0x7f3bf77f9c10>, 2]\n",
      "[<__main__.Vertice object at 0x7f3bf7bbc450>, 2]\n",
      "[<__main__.Vertice object at 0x7f3bf7de9610>, 2]\n",
      "[<__main__.Vertice object at 0x7f3bf7bbc9d0>, 0]\n",
      "[<__main__.Vertice object at 0x7f3bf7bbc410>, 0]\n",
      "[<__main__.Vertice object at 0x7f3bf7bbc790>, 1]\n",
      "[<__main__.Vertice object at 0x7f3bf7bbce10>, 1]\n",
      "[<__main__.Vertice object at 0x7f3bf7bbc490>, 1]\n",
      "[<__main__.Vertice object at 0x7f3bf77f9c10>, 2]\n",
      "[<__main__.Vertice object at 0x7f3bf7bbc450>, 2]\n",
      "[<__main__.Vertice object at 0x7f3bf7de9610>, 2]\n",
      "[<__main__.Vertice object at 0x7f3bf7bbc9d0>, 0]\n",
      "[<__main__.Vertice object at 0x7f3bf7bbc410>, 0]\n",
      "[<__main__.Vertice object at 0x7f3bf7bbc790>, 1]\n",
      "[<__main__.Vertice object at 0x7f3bf7bbce10>, 1]\n",
      "[<__main__.Vertice object at 0x7f3bf7bbc490>, 1]\n",
      "[<__main__.Vertice object at 0x7f3bf77f9c10>, 2]\n",
      "[<__main__.Vertice object at 0x7f3bf7bbc450>, 2]\n",
      "[<__main__.Vertice object at 0x7f3bf7de9610>, 2]\n",
      "[<__main__.Vertice object at 0x7f3bf7bbc9d0>, 0]\n",
      "[<__main__.Vertice object at 0x7f3bf7bbc410>, 0]\n",
      "[<__main__.Vertice object at 0x7f3bf7bbc790>, 1]\n",
      "[<__main__.Vertice object at 0x7f3bf7bbce10>, 1]\n",
      "[<__main__.Vertice object at 0x7f3bf7bbc490>, 1]\n",
      "[<__main__.Vertice object at 0x7f3bf77f9c10>, 2]\n",
      "[<__main__.Vertice object at 0x7f3bf7bbc450>, 2]\n",
      "[<__main__.Vertice object at 0x7f3bf7de9610>, 2]\n",
      "[<__main__.Vertice object at 0x7f3bf7bbc9d0>, 0]\n",
      "[<__main__.Vertice object at 0x7f3bf7bbc410>, 0]\n",
      "[<__main__.Vertice object at 0x7f3bf7bbc790>, 1]\n",
      "[<__main__.Vertice object at 0x7f3bf7bbce10>, 1]\n",
      "[<__main__.Vertice object at 0x7f3bf7bbc490>, 1]\n",
      "[<__main__.Vertice object at 0x7f3bf77f9c10>, 2]\n",
      "[<__main__.Vertice object at 0x7f3bf7bbc450>, 2]\n",
      "[<__main__.Vertice object at 0x7f3bf7de9610>, 2]\n",
      "[<__main__.Vertice object at 0x7f3bf7bbc9d0>, 0]\n",
      "[<__main__.Vertice object at 0x7f3bf7bbc410>, 0]\n",
      "[<__main__.Vertice object at 0x7f3bf7bbc790>, 1]\n",
      "[<__main__.Vertice object at 0x7f3bf7bbce10>, 1]\n",
      "[<__main__.Vertice object at 0x7f3bf7bbc490>, 1]\n",
      "[<__main__.Vertice object at 0x7f3bf77f9c10>, 2]\n",
      "[<__main__.Vertice object at 0x7f3bf7bbc450>, 2]\n",
      "[<__main__.Vertice object at 0x7f3bf7de9610>, 2]\n"
     ]
    }
   ],
   "source": [
    "def main():\n",
    "    grafo = Grafo(\"Ex3.txt\")\n",
    "    grafo.bellman_ford()\n",
    "    grafo.imprimir_resultado()\n",
    "    plota(grafo)\n",
    "\n",
    "if __name__ == \"__main__\":\n",
    "    main()"
   ]
  }
 ],
 "metadata": {
  "kernelspec": {
   "display_name": "Python 3",
   "language": "python",
   "name": "python3"
  },
  "language_info": {
   "codemirror_mode": {
    "name": "ipython",
    "version": 3
   },
   "file_extension": ".py",
   "mimetype": "text/x-python",
   "name": "python",
   "nbconvert_exporter": "python",
   "pygments_lexer": "ipython3",
   "version": "3.7.5"
  }
 },
 "nbformat": 4,
 "nbformat_minor": 4
}
